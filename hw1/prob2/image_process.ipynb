{
 "cells": [
  {
   "cell_type": "code",
   "execution_count": 1,
   "metadata": {},
   "outputs": [],
   "source": [
    "from matplotlib import pyplot as plt\n",
    "import numpy as np\n",
    "import cv2\n",
    "import os\n",
    "from progressbar import *\n",
    "\n",
    "import pandas as pd\n"
   ]
  },
  {
   "cell_type": "code",
   "execution_count": 2,
   "metadata": {},
   "outputs": [
    {
     "name": "stdout",
     "output_type": "stream",
     "text": [
      "img2train folder already exist\n",
      "img2test folder already exist\n"
     ]
    }
   ],
   "source": [
    "train_data = pd.read_csv('train.csv')\n",
    "test_data = pd.read_csv('test.csv')\n",
    "try:\n",
    "    os.mkdir('img2train')\n",
    "except:\n",
    "    print('img2train folder already exist')\n",
    "\n",
    "try:\n",
    "    os.mkdir('img2test')\n",
    "except:\n",
    "    print('img2test folder already exist')\n",
    "    \n",
    "    "
   ]
  },
  {
   "cell_type": "code",
   "execution_count": 3,
   "metadata": {},
   "outputs": [
    {
     "name": "stderr",
     "output_type": "stream",
     "text": [
      "  0% |                                                                        |\r"
     ]
    },
    {
     "name": "stdout",
     "output_type": "stream",
     "text": [
      "croping train\n"
     ]
    },
    {
     "name": "stderr",
     "output_type": "stream",
     "text": [
      "100% |########################################################################|\r"
     ]
    }
   ],
   "source": [
    "train_csv = {'file':[],'label':[]}\n",
    "print('croping train')\n",
    "\n",
    "pbar = ProgressBar().start()\n",
    "total = len(train_data.index)\n",
    "for i in train_data.index:\n",
    "    img = cv2.imread('images/'+train_data['filename'][i])\n",
    "#     img = img[:,:,::-1]\n",
    "    x_min = train_data['xmin'][i]\n",
    "    x_max = train_data['xmax'][i]\n",
    "    y_min = train_data['ymin'][i]\n",
    "    y_max = train_data['ymax'][i]\n",
    "    img2 = img[y_min:y_max,x_min:x_max,:]\n",
    "    image = cv2.resize(img2,(80,80))\n",
    "    name = 'train_%04d.jpg'%i\n",
    "    train_csv['file'].append(name)\n",
    "    train_csv['label'].append(train_data['label'][i])\n",
    "    cv2.imwrite('img2train/'+name,image)\n",
    "    pbar.update(int((i / (total - 1)) * 100))\n",
    "train_df = pd.DataFrame(train_csv)\n",
    "train_df.to_csv('train_crop.csv',index=False)"
   ]
  },
  {
   "cell_type": "code",
   "execution_count": 4,
   "metadata": {},
   "outputs": [
    {
     "name": "stderr",
     "output_type": "stream",
     "text": [
      "  5% |###                                                                     |\r"
     ]
    },
    {
     "name": "stdout",
     "output_type": "stream",
     "text": [
      "croping test\n"
     ]
    },
    {
     "name": "stderr",
     "output_type": "stream",
     "text": [
      "100% |########################################################################|\r"
     ]
    }
   ],
   "source": [
    "test_csv = {'file':[],'label':[]}\n",
    "print('croping test')\n",
    "\n",
    "pbar = ProgressBar().start()\n",
    "total = len(test_data.index)\n",
    "for i in test_data.index:\n",
    "    img = cv2.imread('images/'+test_data['filename'][i])\n",
    "#     img = img[:,:,::-1]\n",
    "    x_min = test_data['xmin'][i]\n",
    "    x_max = test_data['xmax'][i]\n",
    "    y_min = test_data['ymin'][i]\n",
    "    y_max = test_data['ymax'][i]\n",
    "    img2 = img[y_min:y_max,x_min:x_max,:]\n",
    "    image = cv2.resize(img2,(80,80))\n",
    "    name = 'test_%04d.jpg'%i\n",
    "    test_csv['file'].append(name)\n",
    "    test_csv['label'].append(test_data['label'][i])\n",
    "    cv2.imwrite('img2test/'+name,image)\n",
    "    pbar.update(int((i / (total - 1)) * 100))\n",
    "test_df = pd.DataFrame(test_csv)\n",
    "test_df.to_csv('test_crop.csv',index=False)"
   ]
  }
 ],
 "metadata": {
  "kernelspec": {
   "display_name": "Python 3",
   "language": "python",
   "name": "python3"
  },
  "language_info": {
   "codemirror_mode": {
    "name": "ipython",
    "version": 3
   },
   "file_extension": ".py",
   "mimetype": "text/x-python",
   "name": "python",
   "nbconvert_exporter": "python",
   "pygments_lexer": "ipython3",
   "version": "3.6.9"
  }
 },
 "nbformat": 4,
 "nbformat_minor": 2
}
